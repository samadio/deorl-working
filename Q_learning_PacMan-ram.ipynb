{
 "cells": [
  {
   "cell_type": "code",
   "execution_count": 1,
   "metadata": {},
   "outputs": [],
   "source": [
    "import gym\n",
    "import time\n",
    "import numpy as np\n",
    "import matplotlib.pyplot as plt\n",
    "plt.style.use(\"ggplot\")"
   ]
  },
  {
   "cell_type": "code",
   "execution_count": 2,
   "metadata": {},
   "outputs": [],
   "source": [
    "def Q_func(features, params):\n",
    "    return 1 # np.dot(features, params)\n",
    "\n",
    "def features_func(state, action):\n",
    "    return state + action\n",
    "\n",
    "def max_argmax(Q_func, features_func, state, actions_list):\n",
    "    Q_func_values = [ ]\n",
    "    for action in actions_list:\n",
    "            Q_func_values.append(Q_func(features_func(state, action), params))\n",
    "    \n",
    "    best_value = max(Q_func_values)\n",
    "    best_action = actions_list[Q_func_values.index(best_value)]\n",
    "\n",
    "    return (best_value, best_action)\n",
    "\n",
    "def diff(reward, max_Q_value, Q_value, disc_factor):\n",
    "    return reward + disc_factor * max_Q_value - Q_value\n",
    "\n",
    "def update_params(params, features, difference, alpha):\n",
    "    params += alpha * difference * features\n",
    "    return params"
   ]
  },
  {
   "cell_type": "code",
   "execution_count": 3,
   "metadata": {},
   "outputs": [
    {
     "name": "stderr",
     "output_type": "stream",
     "text": [
      "/home/fra/Softwares/anaconda3/envs/gym_env/lib/python3.6/site-packages/gym/envs/registration.py:14: PkgResourcesDeprecationWarning: Parameters to load are deprecated.  Call .resolve and .require separately.\n",
      "  result = entry_point.load(False)\n"
     ]
    }
   ],
   "source": [
    "env = gym.make('MsPacman-ram-v0')\n",
    "state = env.reset() # initialize the environment\n",
    "\n",
    "disc_factor  = 0.9 # discounting factor\n",
    "alpha = 0.1 # learning rate\n",
    "actions_list = [0, 1, 2, 3, 4, 5, 6, 7, 8]\n",
    "features_space_dim = state.shape[0]\n",
    "\n",
    "# The Q function will be a linear combination of\n",
    "# the features, and for each of them it has one\n",
    "# parameter to be learned\n",
    "params = np.random.randn(features_space_dim)"
   ]
  },
  {
   "cell_type": "code",
   "execution_count": 4,
   "metadata": {},
   "outputs": [
    {
     "data": {
      "text/plain": [
       "array([  0, 112, 114, 115,  48,   3,  88,  88,  88,  88,  88,   0,  80,\n",
       "        80,  80,  50,  98,   0,   0,   3,   0,   0,   1,   0,   0,   1,\n",
       "         6,   6, 198,   4,  63,   0,  45,   1,   0, 198, 198,   0,   0,\n",
       "         0,   0,  32,  52,   0,   0, 120,   0, 100, 130,   0,   0, 134,\n",
       "         1, 222,   0,   1,   3,   0,   6,  80, 255, 255,   0, 255, 255,\n",
       "        80, 255, 255,  80, 255, 255,  80, 255, 255,  80, 191, 191,  80,\n",
       "       191, 191,  80, 191, 191,  80, 255, 255,  80, 255, 255,  80, 255,\n",
       "       255,  80, 255, 255,   0, 255, 255,  80, 255, 255,  20, 223,  43,\n",
       "       217, 123, 217, 123, 217, 123, 217, 123, 217, 123, 217, 221,   0,\n",
       "        63,   0,   0,   0,   0,   0,   2,  66, 240, 146, 215], dtype=uint8)"
      ]
     },
     "execution_count": 4,
     "metadata": {},
     "output_type": "execute_result"
    }
   ],
   "source": [
    "state"
   ]
  },
  {
   "cell_type": "code",
   "execution_count": null,
   "metadata": {},
   "outputs": [],
   "source": [
    "Q_value_old = -50 # naive initialization\n",
    "total_reward_over_time = np.zeros((1)) # cumulative reward\n",
    "total_reward = 0\n",
    "\n",
    "action = actions_list[np.random.randint(len(actions_list))] # random first action\n",
    "state, reward, done, info = env.step(action)\n",
    "\n",
    "total_reward += reward\n",
    "total_reward_over_time = np.append(total_reward_over_time, total_reward)\n",
    "\n",
    "Q_value = Q_func(state, action) # Q-func in the new state\n",
    "\n",
    "# parameters update\n",
    "difference = diff(reward, Q_value, Q_value_old, disc_factor)\n",
    "features = features_func(state, action)\n",
    "params = update_params(params, features, difference, alpha)\n",
    "\n",
    "Q_value_old = Q_value\n",
    "\n",
    "for t in range(1000):\n",
    "    time.sleep(0.03)\n",
    "    env.render()\n",
    "\n",
    "    max_Q_value, best_action = max_argmax(Q_func, features_func, state, actions_list)\n",
    "    action = best_action # 100%-greedy selection\n",
    "\n",
    "    state, reward, done, info = env.step(action)\n",
    "    total_reward += reward\n",
    "    total_reward_over_time = np.append(total_reward_over_time, total_reward)\n",
    "\n",
    "    Q_value = Q_func(state, action)\n",
    "    \n",
    "    # parameters update\n",
    "    features = features_func(state, action)\n",
    "    difference = diff(reward, max_Q_value, Q_value_old, disc_factor)    \n",
    "    params = update_params(params, features, difference, alpha)\n",
    "\n",
    "    Q_value_old = Q_value\n",
    "\n",
    "    if done: # lost all lives\n",
    "        break\n",
    "env.close()"
   ]
  },
  {
   "cell_type": "code",
   "execution_count": null,
   "metadata": {
    "scrolled": true
   },
   "outputs": [],
   "source": [
    "plt.plot(total_reward_over_time)"
   ]
  },
  {
   "cell_type": "code",
   "execution_count": null,
   "metadata": {},
   "outputs": [],
   "source": []
  }
 ],
 "metadata": {
  "kernelspec": {
   "display_name": "Python 3",
   "language": "python",
   "name": "python3"
  },
  "language_info": {
   "codemirror_mode": {
    "name": "ipython",
    "version": 3
   },
   "file_extension": ".py",
   "mimetype": "text/x-python",
   "name": "python",
   "nbconvert_exporter": "python",
   "pygments_lexer": "ipython3",
   "version": "3.6.7"
  }
 },
 "nbformat": 4,
 "nbformat_minor": 2
}
