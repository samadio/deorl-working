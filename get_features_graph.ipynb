{
 "cells": [
  {
   "cell_type": "code",
   "execution_count": 87,
   "metadata": {},
   "outputs": [],
   "source": [
    "import networkx as nx # great library that implements a lot of useful (and efficient) data structures and algorithms for graphs\n",
    "import numpy as np\n",
    "import gym\n",
    "import matplotlib.pyplot as plt\n",
    "\n",
    "\n",
    "class State(object):\n",
    "    '''\n",
    "    Depict the state as a graph of all the pixels which can be crossed at any time\n",
    "    by Pacman. in order to be a node, a pixel needs to lie in a corridor. Each different pixel\n",
    "    can be connected to any of the four Von Neumann neighbors (up, right, down, left), provided \n",
    "    they are admissible. The NetworkX library is used.\n",
    "    '''\n",
    "    def __init__(self):\n",
    "        '''\n",
    "        Initializes the empty graph\n",
    "        '''\n",
    "        self.graph = nx.Graph() # NetworkX-provided data structure to represent a graph\n",
    "        self.map = None # To be the matrix representation of the graph\n",
    "        \n",
    "    def create_graph(self, rails_map, corridors_color):\n",
    "        '''\n",
    "        Initializes the graph. It loop over every corridor pixel over the rails_map matrix and adds \n",
    "        its corresponding node. For each new node, the presence of neighbors is checked, and they are \n",
    "        eventually added. Finally, those pixel who are not\n",
    "        '''\n",
    "        m, n = np.shape(rails_map)\n",
    "        \n",
    "        # Loop over all pixels\n",
    "        for row in range(m):\n",
    "            for col in range(n):\n",
    "                color = rails_map[row, col]\n",
    "                if (color == corridors_color) and ((row, col) not in self.graph.nodes): # if corridor\n",
    "                    self.graph.add_node((row, col)) #add node to the graph\n",
    "                    \n",
    "                    # Loop over the neighbors and establish edge if necessary\n",
    "                    for offset in [(0, 1), (0, -1), (-1, 0), (1, 0)]:\n",
    "                        neighbor = (row + offset[0], col + offset[1])\n",
    "                        \n",
    "                        if (0 <= neighbor[0] <= m-1) \\\n",
    "                        and (0 <= neighbor[1] <= n-1) \\\n",
    "                        and (rails_map[neighbor[0], neighbor[1]] == corridors_color): # if not out of bounds and colored appropriately\n",
    "                            self.graph.add_edge((row, col), neighbor)\n",
    "                \n",
    "        # Generate map \n",
    "        self.map = np.ones(rails_map.shape).astype(int) * int(not corridors_color)\n",
    "        for pixel in self.graph.nodes:\n",
    "            self.map[pixel[0], pixel[1]] = corridors_color\n",
    "                \n",
    "      \n",
    "    def get_distance(self, source, target):\n",
    "        '''\n",
    "        Computes the shortest distance from source to target.\n",
    "        Source is likely to be Pacman, while targets can be the ghosts for example.\n",
    "        '''\n",
    "        return nx.shortest_path_length(self.graph, source, target)\n",
    "    \n",
    "    def display_map(self):\n",
    "        plt.imshow(self.map)\n",
    "        plt.show()\n",
    "        \n",
    "    \n",
    "    def display_path(self, source, target, path_color=3):\n",
    "        '''\n",
    "        Input source and target and this function will display the shortest path.\n",
    "        Used for testing.\n",
    "        '''\n",
    "        if (source not in self.graph.nodes) or (target not in self.graph.nodes):\n",
    "            print(\"One or more of the locations cannot be crossed\")\n",
    "            return\n",
    "        \n",
    "        path = nx.shortest_path(self.graph, source, target)\n",
    "        display = self.map.copy()\n",
    "        \n",
    "        for pixel in path:\n",
    "            display[pixel[0], pixel[1]] = path_color\n",
    "            \n",
    "        plt.imshow(display)\n",
    "        plt.show()"
   ]
  },
  {
   "cell_type": "code",
   "execution_count": 89,
   "metadata": {},
   "outputs": [
    {
     "name": "stdout",
     "output_type": "stream",
     "text": [
      "[[1 1 1 1 1 1 1 1 1 1]\n",
      " [1 0 0 0 0 0 0 0 0 0]\n",
      " [1 0 0 0 0 0 0 0 0 0]\n",
      " [1 0 0 0 0 0 0 0 0 0]\n",
      " [1 0 0 0 0 0 0 0 0 0]\n",
      " [1 0 0 0 0 0 0 0 0 0]\n",
      " [1 0 0 0 0 0 0 0 0 0]\n",
      " [1 0 0 0 0 0 0 0 0 0]\n",
      " [1 0 0 0 0 0 0 0 0 0]\n",
      " [1 0 0 0 0 0 0 0 0 0]]\n"
     ]
    },
    {
     "data": {
      "image/png": "[encoded data removed]",
      "text/plain": [
       "<Figure size 432x288 with 1 Axes>"
      ]
     },
     "metadata": {
      "needs_background": "light"
     },
     "output_type": "display_data"
    }
   ],
   "source": [
    "rail_map = np.load(\"saved_objects/rails_matrix.npy\").astype(int)\n",
    "print(rail_map[:10, :10]) # the corridors have the value 1, the walls have 0\n",
    "\n",
    "plt.imshow(rail_map)\n",
    "plt.show()"
   ]
  },
  {
   "cell_type": "code",
   "execution_count": 90,
   "metadata": {},
   "outputs": [
    {
     "data": {
      "image/png": "[encoded data removed]",
      "text/plain": [
       "<Figure size 432x288 with 1 Axes>"
      ]
     },
     "metadata": {
      "needs_background": "light"
     },
     "output_type": "display_data"
    },
    {
     "name": "stdout",
     "output_type": "stream",
     "text": [
      "This graph contains 1686 nodes.\n"
     ]
    }
   ],
   "source": [
    "test = State()\n",
    "test.create_graph(rail_map, corridors_color=1)\n",
    "test.display_map()\n",
    "\n",
    "nodes_number = len(test.graph.nodes)\n",
    "print(\"This graph contains {} nodes.\".format(nodes_number))"
   ]
  },
  {
   "cell_type": "code",
   "execution_count": 91,
   "metadata": {},
   "outputs": [
    {
     "data": {
      "image/png": "[encoded data removed]",
      "text/plain": [
       "<Figure size 432x288 with 1 Axes>"
      ]
     },
     "metadata": {
      "needs_background": "light"
     },
     "output_type": "display_data"
    },
    {
     "name": "stdout",
     "output_type": "stream",
     "text": [
      "The distance from (30, 92) to (96, 90) is: 68\n"
     ]
    }
   ],
   "source": [
    "# Find and display the shortest path between two random nodes\n",
    "\n",
    "starting_point = tuple(np.asarray(test.graph.nodes)[np.random.randint(nodes_number)])\n",
    "target_point = tuple(np.asarray(test.graph.nodes)[np.random.randint(nodes_number)])\n",
    "\n",
    "distance = test.get_distance(starting_point, target_point)\n",
    "\n",
    "test.display_path(starting_point, target_point)\n",
    "print(\"The distance from {} to {} is: {}\" \\\n",
    "      .format(starting_point, target_point, distance))"
   ]
  }
 ],
 "metadata": {
  "kernelspec": {
   "display_name": "Python 3",
   "language": "python",
   "name": "python3"
  },
  "language_info": {
   "codemirror_mode": {
    "name": "ipython",
    "version": 3
   },
   "file_extension": ".py",
   "mimetype": "text/x-python",
   "name": "python",
   "nbconvert_exporter": "python",
   "pygments_lexer": "ipython3",
   "version": "3.6.7"
  }
 },
 "nbformat": 4,
 "nbformat_minor": 2
}
