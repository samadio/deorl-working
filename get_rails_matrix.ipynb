{
 "cells": [
  {
   "cell_type": "code",
   "execution_count": 35,
   "metadata": {},
   "outputs": [],
   "source": [
    "import numpy as np\n",
    "import matplotlib.pyplot as plt\n",
    "import torch"
   ]
  },
  {
   "cell_type": "code",
   "execution_count": 36,
   "metadata": {},
   "outputs": [
    {
     "name": "stdout",
     "output_type": "stream",
     "text": [
      "Show walls map: \n"
     ]
    },
    {
     "data": {
      "image/png": "[encoded data removed]",
      "text/plain": [
       "<Figure size 432x288 with 1 Axes>"
      ]
     },
     "metadata": {
      "needs_background": "light"
     },
     "output_type": "display_data"
    }
   ],
   "source": [
    "screen = np.load(\"saved_objects/walls_matrix.npy\")\n",
    "screen = np.concatenate((np.zeros((screen.shape[0], 1)), screen), axis=1)\n",
    "screen = np.concatenate((np.zeros((screen.shape[0], 1)), screen), axis=1)\n",
    "screen = np.concatenate((screen, np.zeros((screen.shape[0], 1))), axis=1)\n",
    "screen = np.concatenate((screen, np.zeros((screen.shape[0], 1))), axis=1)\n",
    "\n",
    "print(\"Show walls map: \")\n",
    "plt.imshow(screen)\n",
    "plt.show()\n",
    "\n",
    "kernel = torch.ones(12, 12).type(torch.float) * (-1)\n",
    "kernel = kernel.unsqueeze(0).unsqueeze(0)\n",
    "\n",
    "screen_tens = torch.from_numpy(screen).type(torch.float)\n",
    "screen_tens = screen_tens.unsqueeze(0).unsqueeze(0)"
   ]
  },
  {
   "cell_type": "code",
   "execution_count": 37,
   "metadata": {},
   "outputs": [],
   "source": [
    "filter_tens = torch.nn.functional.conv2d(screen_tens, kernel, padding=(0, 0))\n",
    "filter_raw = filter_tens.data.numpy()[0, 0, :, :]\n",
    "_filter = (filter_raw == filter_raw.max()).astype(int)\n",
    "_filter[63:83, 63:78] = 0"
   ]
  },
  {
   "cell_type": "code",
   "execution_count": 39,
   "metadata": {},
   "outputs": [
    {
     "data": {
      "image/png": "[encoded data removed]",
      "text/plain": [
       "<Figure size 432x288 with 2 Axes>"
      ]
     },
     "metadata": {
      "needs_background": "light"
     },
     "output_type": "display_data"
    }
   ],
   "source": [
    "plt.subplot(1, 2, 1)\n",
    "plt.imshow(_filter)\n",
    "\n",
    "plt.subplot(1, 2, 2)\n",
    "plt.imshow(screen)\n",
    "plt.savefig(fname=\"figura\", dpi=200)\n",
    "plt.show()\n",
    "\n",
    "np.save(\"saved_objects/rails_matrix.npy\", arr=_filter)"
   ]
  },
  {
   "cell_type": "code",
   "execution_count": null,
   "metadata": {},
   "outputs": [],
   "source": []
  }
 ],
 "metadata": {
  "kernelspec": {
   "display_name": "Python 3",
   "language": "python",
   "name": "python3"
  },
  "language_info": {
   "codemirror_mode": {
    "name": "ipython",
    "version": 3
   },
   "file_extension": ".py",
   "mimetype": "text/x-python",
   "name": "python",
   "nbconvert_exporter": "python",
   "pygments_lexer": "ipython3",
   "version": "3.6.7"
  }
 },
 "nbformat": 4,
 "nbformat_minor": 2
}
