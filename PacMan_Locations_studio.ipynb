{
 "cells": [
  {
   "cell_type": "code",
   "execution_count": 24,
   "metadata": {},
   "outputs": [],
   "source": [
    "def center(SpecificMatrix):\n",
    "    \"\"\"\n",
    "        Given a matrix with 1 where lies the object you want to detect and 0 elsewhere,\n",
    "        the position of the center of the object is returned.\n",
    "    \"\"\"\n",
    "    a = np.where(SpecificMatrix == 1)\n",
    "    y = a[0]\n",
    "    x = a[1]\n",
    "\n",
    "    x_bar = (x.max() + x.min())/2\n",
    "    y_bar = (y.max() + y.min())/2\n",
    "    \n",
    "    return (x_bar, y_bar)\n",
    "\n",
    "\n",
    "def find_location(screen, value):\n",
    "    \"\"\"\n",
    "        Find the object corresponding to value within the matrix. If it is not present None is returned.\n",
    "    \"\"\"\n",
    "    SpecificMatrix = (screen == value).astype(int)\n",
    "    if SpecificMatrix.sum() == 0:\n",
    "        return None\n",
    "    else:\n",
    "        return center(SpecificMatrix)\n",
    "\n",
    "def PacmanAndGhostsCoords(screen, PacmanValue=42, WallsFoodValue=74, GhostsValues=[70, 38, 184, 88], ghosts_scared=False):\n",
    "    \"\"\"\n",
    "        Given the matrix of the screen, a list with the positions of all the relevant objects is returned.\n",
    "    \"\"\"\n",
    "    pacman_coords = find_location(screen, PacmanValue)\n",
    "    \n",
    "    if ghosts_scared:\n",
    "        pass\n",
    "    else:\n",
    "        ghosts_coords = []\n",
    "        for ghost_value in GhostsValues:\n",
    "            ghosts_coords.append(find_location(screen, ghost_value))\n",
    "\n",
    "    return [pacman_coords, ghosts_coords]"
   ]
  },
  {
   "cell_type": "code",
   "execution_count": 17,
   "metadata": {},
   "outputs": [
    {
     "data": {
      "text/plain": [
       "'\\nSimone here. Ciao\\nLe funzioni ritornano liste di coordinate, che sono anche le keys dei node del grafo. Bisogna usare le coordinate\\nnella lista ritornata per assegnare correttamente i valori binari nello stato dei nodi\\nStati dei nodi voluti=(pacman,ghost,scarghost,food,fancyfood)\\n\\nCome mappare un pixel dello screen nel nodo piu vicino:\\nciclare sulle key di tutti i nodi, calcolarne la distanza dalle coordinate del pixel e scegliere il minimo della\\ndistanza.\\n\\nA questo punto dovremmo avere tutti gli stati associati a nodi con key come coordinate. Gli stati contengono tutte\\nle informazioni rilevanti. Bisognera definire le features e la Q function.\\n'"
      ]
     },
     "execution_count": 17,
     "metadata": {},
     "output_type": "execute_result"
    }
   ],
   "source": [
    "'''\n",
    "Simone here. Ciao\n",
    "Le funzioni ritornano liste di coordinate, che sono anche le keys dei node del grafo. Bisogna usare le coordinate\n",
    "nella lista ritornata per assegnare correttamente i valori binari nello stato dei nodi\n",
    "Stati dei nodi voluti=(pacman,ghost,scarghost,food,fancyfood)\n",
    "\n",
    "Come mappare un pixel dello screen nel nodo piu vicino:\n",
    "ciclare sulle key di tutti i nodi, calcolarne la distanza dalle coordinate del pixel e scegliere il minimo della\n",
    "distanza.\n",
    "\n",
    "A questo punto dovremmo avere tutti gli stati associati a nodi con key come coordinate. Gli stati contengono tutte\n",
    "le informazioni rilevanti. Bisognera definire le features e la Q function.\n",
    "'''"
   ]
  },
  {
   "cell_type": "code",
   "execution_count": 18,
   "metadata": {},
   "outputs": [],
   "source": [
    "def update(): #graph method\n",
    "    \"\"\"\n",
    "    Given a list of coordinates, updates the node attributes\n",
    "    \"\"\"\n",
    "    pass\n",
    "\n",
    "def coord2node(coord, graph):\n",
    "    \"\"\"\n",
    "    \n",
    "    \"\"\"\n",
    "    pass\n",
    "    "
   ]
  },
  {
   "cell_type": "code",
   "execution_count": 943,
   "metadata": {},
   "outputs": [
    {
     "data": {
      "image/png": "[encoded data removed]",
      "text/plain": [
       "<Figure size 432x288 with 1 Axes>"
      ]
     },
     "metadata": {
      "needs_background": "light"
     },
     "output_type": "display_data"
    }
   ],
   "source": [
    "import gym\n",
    "import atari_py\n",
    "import numpy as np\n",
    "import matplotlib.pyplot as plt\n",
    "\n",
    "env = gym.make('MsPacman-ram-v0')\n",
    "env.reset();\n",
    "screen_raw = env.env.ale.getScreen().reshape(210, 160)\n",
    "screen_raw = screen_raw[2:170, 6:154]\n",
    "\n",
    "\n",
    "plt.imshow(screen_raw)\n",
    "plt.show()"
   ]
  },
  {
   "cell_type": "code",
   "execution_count": 978,
   "metadata": {},
   "outputs": [
    {
     "data": {
      "image/png": "[encoded data removed]",
      "text/plain": [
       "<Figure size 432x288 with 1 Axes>"
      ]
     },
     "metadata": {
      "needs_background": "light"
     },
     "output_type": "display_data"
    }
   ],
   "source": [
    "screen_raw = env.env.ale.getScreen().reshape(210, 160)\n",
    "screen_raw = screen_raw[2:170, 6:154]\n",
    "\n",
    "#skip intro\n",
    "#for i in range(94):\n",
    "    #env.step(0)\n",
    "    \n",
    "    \n",
    "for i in range(2):\n",
    "    a, b, c, d = env.step(1)\n",
    "\n",
    "# 1 up\n",
    "# 3 left\n",
    "# 2 right\n",
    "# 4 down\n",
    "plt.imshow(screen_raw)\n",
    "plt.show()"
   ]
  },
  {
   "cell_type": "code",
   "execution_count": 25,
   "metadata": {},
   "outputs": [
    {
     "data": {
      "text/plain": [
       "[(74.0, 101.5), [(73.5, 53.5), (73.5, 83.5), None, None]]"
      ]
     },
     "execution_count": 25,
     "metadata": {},
     "output_type": "execute_result"
    }
   ],
   "source": [
    "PacmanAndGhostsCoords(screen_raw)"
   ]
  },
  {
   "cell_type": "code",
   "execution_count": 979,
   "metadata": {},
   "outputs": [
    {
     "data": {
      "text/plain": [
       "{'ale.lives': 2}"
      ]
     },
     "execution_count": 979,
     "metadata": {},
     "output_type": "execute_result"
    }
   ],
   "source": [
    "d"
   ]
  }
 ],
 "metadata": {
  "kernelspec": {
   "display_name": "Python 3",
   "language": "python",
   "name": "python3"
  },
  "language_info": {
   "codemirror_mode": {
    "name": "ipython",
    "version": 3
   },
   "file_extension": ".py",
   "mimetype": "text/x-python",
   "name": "python",
   "nbconvert_exporter": "python",
   "pygments_lexer": "ipython3",
   "version": "3.6.7"
  }
 },
 "nbformat": 4,
 "nbformat_minor": 2
}
