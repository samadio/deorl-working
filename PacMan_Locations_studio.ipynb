{
 "cells": [
  {
   "cell_type": "code",
   "execution_count": null,
   "metadata": {},
   "outputs": [],
   "source": [
    "def center(SpecificMatrix):\n",
    "    a = np.where(SpecificMatrix == 1)\n",
    "    y = a[0]\n",
    "    x = a[1]\n",
    "\n",
    "    x_bar = (x.max() + x.min())/2\n",
    "    y_bar = (y.max() + y.min())/2\n",
    "    \n",
    "    return (x_bar, y_bar)\n",
    "\n",
    "\n",
    "def find_location(screen, value):\n",
    "    SpecificMatrix = (screen == value).astype(int)\n",
    "    if SpecificMatrix.sum() == 0:\n",
    "        return None\n",
    "    else:\n",
    "        return center(SpecificMatrix)\n",
    "\n",
    "def screen2coords(screen, PacmanValue=42, WallsFoodValue=74, GhostsValues=[70, 38, 184, 88], ghosts_scared=False):\n",
    "    pacman_coords = find_location(screen, value)\n",
    "    \n",
    "    if ghosts_scared:\n",
    "        pass\n",
    "    else:\n",
    "        ghosts_coords = []\n",
    "        for ghost_value in GhostsValue:\n",
    "            ghosts_coords.append(find_location(screen, ghost_value)\n",
    "\n",
    "    return [pacman_coords, ghosts_coords]\n",
    "    \n"
   ]
  }
 ],
 "metadata": {
  "kernelspec": {
   "display_name": "Python 3",
   "language": "python",
   "name": "python3"
  },
  "language_info": {
   "codemirror_mode": {
    "name": "ipython",
    "version": 3
   },
   "file_extension": ".py",
   "mimetype": "text/x-python",
   "name": "python",
   "nbconvert_exporter": "python",
   "pygments_lexer": "ipython3",
   "version": "3.6.7"
  }
 },
 "nbformat": 4,
 "nbformat_minor": 2
}
