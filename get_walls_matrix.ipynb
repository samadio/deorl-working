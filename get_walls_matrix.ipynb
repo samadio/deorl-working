{
 "cells": [
  {
   "cell_type": "code",
   "execution_count": 1,
   "metadata": {
    "scrolled": true
   },
   "outputs": [],
   "source": [
    "import gym\n",
    "import atari_py\n",
    "\n",
    "import numpy as np\n",
    "import matplotlib.pyplot as plt\n",
    "import torch\n",
    "\n",
    "\n",
    "def screen2filter(screen, food_kernel, show=True, show_raw=False):\n",
    "    '''\n",
    "    It performs the convolution of the matrix screen by means of \n",
    "    the food_kernel matrix. Then it returns the matrix which has\n",
    "    value equal to 1 where the convolution produced its maxima \n",
    "    (i.e., the foods' geometrical centers), and 0 elsewhere.\n",
    "    '''\n",
    "    screen_tens = torch.from_numpy(screen).type(torch.float)\n",
    "    screen_tens = screen_tens.unsqueeze(0).unsqueeze(0)\n",
    "\n",
    "    screen_tens = torch.from_numpy(screen).type(torch.float)\n",
    "    screen_tens = screen_tens.unsqueeze(0).unsqueeze(0)\n",
    "\n",
    "    kernel = torch.from_numpy(food_kernel).type(torch.float)\n",
    "    kernel = kernel.unsqueeze(0).unsqueeze(0)\n",
    "\n",
    "    filter_tens = torch.nn.functional.conv2d(screen_tens, kernel, padding=(1, 2))\n",
    "    filter_raw = filter_tens.data.numpy()[0, 0, :, :]\n",
    "    filter = (filter_raw == filter_raw.max()).astype(int)\n",
    "\n",
    "    return filter\n",
    "\n",
    "\n",
    "def filter2coords(filter):\n",
    "    '''\n",
    "    Takes as input the filter and returns the array with all the food coordinates.\n",
    "    '''\n",
    "    food_coords = np.zeros((filter.sum(), 2))\n",
    "    counter = 0\n",
    "    for row_star in np.arange(filter.shape[0])[np.sum(filter, axis=1) > 0]:\n",
    "        col_star = np.arange(filter.shape[1])[filter[row_star] > 0]\n",
    "        foods_in_line = col_star.shape[0]\n",
    "        col_star = col_star.reshape(foods_in_line, 1)\n",
    "\n",
    "        row_repeated = np.repeat(row_star, foods_in_line).reshape((foods_in_line, 1))\n",
    "        line_coords = np.concatenate((row_repeated, col_star), axis=1)\n",
    "        food_coords[counter: counter + foods_in_line, :] = line_coords\n",
    "        counter = counter + foods_in_line\n",
    "\n",
    "    return food_coords.astype(int)\n",
    "\n",
    "\n",
    "def get_walls_matrix(screen, food_coords, special_food_coords):\n",
    "    '''\n",
    "    Returns the matrix with values equal to 1 if the position corresponds\n",
    "    to a wall, 0 if it corresponds to a corridor.'''\n",
    "    walls = screen.copy()\n",
    "    for coords in food_coords:\n",
    "        for i in [-1, 0, 1]:\n",
    "            for j in [-2, -1, 0, 1, 2]:\n",
    "                walls[coords[0] + i, coords[1] + j] = 0\n",
    "\n",
    "    for coords in special_food_coords:\n",
    "        for i in [-4, -3, -2, -1, 0, 1, 2, 3, 4]:\n",
    "            for j in [-2, -1, 0, 1, 2]:\n",
    "                walls[coords[0] + i, coords[1] + j] = 0\n",
    "\n",
    "    return walls"
   ]
  },
  {
   "cell_type": "code",
   "execution_count": 3,
   "metadata": {},
   "outputs": [
    {
     "data": {
      "image/png": "[encoded data removed]",
      "text/plain": [
       "<Figure size 432x288 with 2 Axes>"
      ]
     },
     "metadata": {
      "needs_background": "light"
     },
     "output_type": "display_data"
    }
   ],
   "source": [
    "# MsPacman-ram-v0\n",
    "env = gym.make('MsPacman-ram-v0')\n",
    "env.reset();\n",
    "screen_raw = env.env.ale.getScreen().reshape(210, 160)\n",
    "screen_raw = screen_raw[2:170, 6:154]\n",
    "\n",
    "# the free space has value 144\n",
    "# walls and food have value 74\n",
    "SPECIFIC_VALUE = 74\n",
    "screen = (screen_raw == SPECIFIC_VALUE).astype(int)\n",
    "\n",
    "food_kernel = np.array([[-1, -1, -1, -1, -1, -1],\n",
    "                        [-1,  1,  1,  1,  1, -1],\n",
    "                        [-1,  1,  1,  1,  1, -1],\n",
    "                        [-1, -1, -1, -1, -1, -1]])\n",
    "\n",
    "# Get the food positions\n",
    "filter = screen2filter(screen, food_kernel)\n",
    "food_coords = filter2coords(filter)\n",
    "special_food_coords = np.array([[17, 4], [148, 4], [17, 143], [149, 143]])\n",
    "\n",
    "walls = get_walls_matrix(screen, food_coords, special_food_coords)\n",
    "\n",
    "np.save(\"saved_objects/food_walls_matrix.npy\", screen)\n",
    "np.save(\"saved_objects/walls_matrix.npy\", walls)\n",
    "np.save(\"saved_objects/food_coords.npy\", food_coords)\n",
    "np.save(\"saved_objects/special_food_coords.npy\", special_food_coords)\n",
    "\n",
    "\n",
    "plt.subplot(1, 2, 1)\n",
    "plt.imshow(screen)\n",
    "\n",
    "plt.subplot(1, 2, 2)\n",
    "plt.imshow(walls)\n",
    "\n",
    "plt.show()"
   ]
  },
  {
   "cell_type": "code",
   "execution_count": null,
   "metadata": {},
   "outputs": [],
   "source": []
  }
 ],
 "metadata": {
  "kernelspec": {
   "display_name": "Python 3",
   "language": "python",
   "name": "python3"
  },
  "language_info": {
   "codemirror_mode": {
    "name": "ipython",
    "version": 3
   },
   "file_extension": ".py",
   "mimetype": "text/x-python",
   "name": "python",
   "nbconvert_exporter": "python",
   "pygments_lexer": "ipython3",
   "version": "3.6.7"
  }
 },
 "nbformat": 4,
 "nbformat_minor": 2
}
