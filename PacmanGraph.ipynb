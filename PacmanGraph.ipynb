{
  "nbformat": 4,
  "nbformat_minor": 0,
  "metadata": {
    "colab": {
      "name": "Pacman_Graph.ipynb",
      "version": "0.3.2",
      "provenance": [],
      "collapsed_sections": []
    },
    "kernelspec": {
      "name": "python3",
      "display_name": "Python 3"
    }
  },
  "cells": [
    {
      "metadata": {
        "id": "HVGjSREVKOFg",
        "colab_type": "code",
        "outputId": "403a8d6d-1538-4e97-d6d0-2adf933609af",
        "colab": {
          "base_uri": "https://localhost:8080/",
          "height": 404
        }
      },
      "cell_type": "code",
      "source": [
        "import networkx as nx # great library that implements a lot of useful (and efficient) data structures and algorithms for graphs\n",
        "import numpy as np\n",
        "import gym\n",
        "import matplotlib.pyplot as plt\n",
        "\n",
        "\n",
        "class State(object):\n",
        "    '''\n",
        "    Depict the state as a graph of all the pixels which can be crossed at any time\n",
        "    by Pacman. in order to be a node, a pixel needs to lie in a corridor. Each different pixel\n",
        "    can be connected to any of the four Von Neumann neighbors (up, right, down, left), provided \n",
        "    they are admissible. The NetworkX library is used.\n",
        "    '''\n",
        "    def __init__(self, screen):\n",
        "        '''\n",
        "        Use an attribute for screen and one for the graph.\n",
        "        '''\n",
        "        self.screen = screen #screen is likely to be the output of env.env.ale.getScreen()\n",
        "        self.graph = nx.Graph() #NetworkX-provided data structure to represent a graph\n",
        "    \n",
        "    def create_graph(self):\n",
        "        '''\n",
        "        Initializes the graph. \n",
        "        '''\n",
        "        m, n = np.shape(self.screen)\n",
        "        \n",
        "        # Loop over all pixels\n",
        "        for row in range(m):\n",
        "            for col in range(n):\n",
        "                color = self.screen[row, col]\n",
        "                if color != 144: # discard if not in the corridor\n",
        "                    continue\n",
        "                else:\n",
        "                    if (row, col) not in self.graph.nodes:\n",
        "                        self.graph.add_node((row, col)) #add node to the graph\n",
        "                    \n",
        "                    # Loop over the neighbors and establish edge if necessary\n",
        "                    for offset in [(0, 1), (0, -1), (-1, 0), (1, 0)]:\n",
        "                        neighbor = row + offset[0], col + offset[1]\n",
        "                        if 0 <= neighbor[0] <= 167 and 0 <= neighbor[1] <= 147 and self.screen[neighbor[0], neighbor[1]] == 144: # if not out of bounds and colored appropriately\n",
        "                            self.graph.add_edge((row, col), neighbor)\n",
        "                            \n",
        "        # As you may notice, not all the pixels colored like the corridors can actually be crossed during the gameplay.\n",
        "        # In particular, there is the central square, two stripes on the borders, the eyes of the ghosts and of Pacman.\n",
        "        # We can easily discard them by computing the connected components and keeping the one with the most nodes,\n",
        "        # which clearly represents the space we are looking for\n",
        "        corridors = set(sorted(nx.connected_components(self.graph), key=len)[-1])\n",
        "        \n",
        "        # Remove the nodes we do not need anymore\n",
        "        for node in set(self.graph.nodes):\n",
        "            if node not in corridors:\n",
        "                self.graph.remove_node(node)\n",
        "    \n",
        "    def update(self, new_screen):\n",
        "        '''\n",
        "        Updates the internal screen representation\n",
        "        '''\n",
        "        self.screen = new_screen\n",
        "      \n",
        "    def get_distance(self, source, target):\n",
        "        '''\n",
        "        Computes the shortest distance from source to target.\n",
        "        Source is likely to be Pacman, while targets can be the ghosts for example.\n",
        "        '''\n",
        "        return nx.shortest_path_length(self.graph, source, target)\n",
        "    \n",
        "    def display_path(self, source, target):\n",
        "        '''\n",
        "        Input source and target and this function will display the shortest path.\n",
        "        Used for testing.\n",
        "        '''\n",
        "        if source not in self.graph.nodes or target not in self.graph.nodes:\n",
        "          print(\"One or more of the locations cannot be crossed\")\n",
        "          return\n",
        "        path = nx.shortest_path(self.graph, source, target)\n",
        "        for pixel in path:\n",
        "            self.screen[pixel[0], pixel[1]] = 3\n",
        "        plt.imshow(self.screen)\n",
        "        plt.show()\n",
        "        \n",
        "        \n",
        "# MsPacman-ram-v0\n",
        "env = gym.make('MsPacman-ram-v0')\n",
        "env.reset();\n",
        "screen_raw = env.env.ale.getScreen().reshape(210, 160)\n",
        "screen_raw = screen_raw[2:170, 6:154]\n",
        "test = State(screen_raw)\n",
        "test.create_graph()\n",
        "test.display_path((0, 0), (167, 147))"
      ],
      "execution_count": 0,
      "outputs": [
        {
          "output_type": "stream",
          "text": [
            "/usr/local/lib/python3.6/dist-packages/gym/envs/registration.py:14: PkgResourcesDeprecationWarning: Parameters to load are deprecated.  Call .resolve and .require separately.\n",
            "  result = entry_point.load(False)\n"
          ],
          "name": "stderr"
        },
        {
          "output_type": "display_data",
          "data": {
            "image/png": "[encoded data removed]",
            "text/plain": [
              "<matplotlib.figure.Figure at 0x7fc2d345d550>"
            ]
          },
          "metadata": {
            "tags": []
          }
        }
      ]
    }
  ]
}